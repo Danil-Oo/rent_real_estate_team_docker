{
  "cells": [
    {
      "cell_type": "markdown",
      "metadata": {
        "id": "_Kfcb84Evd4t"
      },
      "source": []
    },
    {
      "cell_type": "markdown",
      "metadata": {
        "id": "KWtkYSGutT9o"
      },
      "source": [
        "###"
      ]
    },
    {
      "cell_type": "markdown",
      "metadata": {},
      "source": [
        "1. Подключим необходимые библиотеки"
      ]
    },
    {
      "cell_type": "code",
      "execution_count": 2,
      "metadata": {
        "id": "-uGyhqjJsoPx"
      },
      "outputs": [],
      "source": [
        "import pandas as pd\n",
        "import matplotlib.pyplot as plt\n",
        "import seaborn as sns\n",
        "import numpy as np\n"
      ]
    },
    {
      "cell_type": "markdown",
      "metadata": {},
      "source": [
        "2. Загрузим данные"
      ]
    },
    {
      "cell_type": "code",
      "execution_count": 3,
      "metadata": {
        "colab": {
          "base_uri": "https://localhost:8080/",
          "height": 1000
        },
        "id": "DXkOqQj6t1OB",
        "outputId": "ca5fb424-9ca4-4651-a0e0-4bd2fd491756"
      },
      "outputs": [
        {
          "data": {
            "text/html": [
              "<div>\n",
              "<style scoped>\n",
              "    .dataframe tbody tr th:only-of-type {\n",
              "        vertical-align: middle;\n",
              "    }\n",
              "\n",
              "    .dataframe tbody tr th {\n",
              "        vertical-align: top;\n",
              "    }\n",
              "\n",
              "    .dataframe thead th {\n",
              "        text-align: right;\n",
              "    }\n",
              "</style>\n",
              "<table border=\"1\" class=\"dataframe\">\n",
              "  <thead>\n",
              "    <tr style=\"text-align: right;\">\n",
              "      <th></th>\n",
              "      <th>Unnamed: 0</th>\n",
              "      <th>ID  объявления</th>\n",
              "      <th>Количество комнат</th>\n",
              "      <th>Тип</th>\n",
              "      <th>Метро</th>\n",
              "      <th>Адрес</th>\n",
              "      <th>Площадь, м2</th>\n",
              "      <th>Дом</th>\n",
              "      <th>Парковка</th>\n",
              "      <th>Цена</th>\n",
              "      <th>...</th>\n",
              "      <th>Окна</th>\n",
              "      <th>Санузел</th>\n",
              "      <th>Можно с детьми/животными</th>\n",
              "      <th>Дополнительно</th>\n",
              "      <th>Название ЖК</th>\n",
              "      <th>Серия дома</th>\n",
              "      <th>Высота потолков, м</th>\n",
              "      <th>Лифт</th>\n",
              "      <th>Мусоропровод</th>\n",
              "      <th>Ссылка на объявление</th>\n",
              "    </tr>\n",
              "  </thead>\n",
              "  <tbody>\n",
              "    <tr>\n",
              "      <th>0</th>\n",
              "      <td>0</td>\n",
              "      <td>271271157</td>\n",
              "      <td>4</td>\n",
              "      <td>Квартира</td>\n",
              "      <td>м. Смоленская (9 мин пешком)</td>\n",
              "      <td>Москва, улица Новый Арбат, 27</td>\n",
              "      <td>200.0/20.0</td>\n",
              "      <td>5/16, Монолитный</td>\n",
              "      <td>подземная</td>\n",
              "      <td>500000.0 руб./ За месяц, Залог - 500000 руб., ...</td>\n",
              "      <td>...</td>\n",
              "      <td>NaN</td>\n",
              "      <td>NaN</td>\n",
              "      <td>Можно с детьми, Можно с животными</td>\n",
              "      <td>Мебель в комнатах, Мебель на кухне, Ванна, Душ...</td>\n",
              "      <td>Новый Арбат, 2010</td>\n",
              "      <td>NaN</td>\n",
              "      <td>3.0</td>\n",
              "      <td>Пасс (4), Груз (1)</td>\n",
              "      <td>Да</td>\n",
              "      <td>https://www.cian.ru/rent/flat/271271157</td>\n",
              "    </tr>\n",
              "    <tr>\n",
              "      <th>1</th>\n",
              "      <td>1</td>\n",
              "      <td>271634126</td>\n",
              "      <td>4</td>\n",
              "      <td>Квартира</td>\n",
              "      <td>м. Смоленская (8 мин пешком)</td>\n",
              "      <td>Москва, улица Новый Арбат, 27</td>\n",
              "      <td>198.0/95.0/18.0</td>\n",
              "      <td>5/16, Монолитно-кирпичный</td>\n",
              "      <td>подземная</td>\n",
              "      <td>500000.0 руб./ За месяц, Залог - 500000 руб., ...</td>\n",
              "      <td>...</td>\n",
              "      <td>На улицу и двор</td>\n",
              "      <td>Совмещенный (2), Раздельный (1)</td>\n",
              "      <td>Можно с детьми</td>\n",
              "      <td>Мебель в комнатах, Мебель на кухне, Ванна, Душ...</td>\n",
              "      <td>Новый Арбат</td>\n",
              "      <td>NaN</td>\n",
              "      <td>3.5</td>\n",
              "      <td>Пасс (1), Груз (1)</td>\n",
              "      <td>Нет</td>\n",
              "      <td>https://www.cian.ru/rent/flat/271634126</td>\n",
              "    </tr>\n",
              "    <tr>\n",
              "      <th>2</th>\n",
              "      <td>2</td>\n",
              "      <td>271173086</td>\n",
              "      <td>4, Оба варианта</td>\n",
              "      <td>Квартира</td>\n",
              "      <td>м. Смоленская (7 мин пешком)</td>\n",
              "      <td>Москва, улица Новый Арбат, 27</td>\n",
              "      <td>200.0/116.0/4.0</td>\n",
              "      <td>5/16</td>\n",
              "      <td>подземная</td>\n",
              "      <td>500000.0 руб./ За месяц, Залог - 500000 руб., ...</td>\n",
              "      <td>...</td>\n",
              "      <td>На улицу и двор</td>\n",
              "      <td>Совмещенный (3)</td>\n",
              "      <td>Можно с детьми</td>\n",
              "      <td>Мебель в комнатах, Мебель на кухне, Ванна, Душ...</td>\n",
              "      <td>Новый Арбат</td>\n",
              "      <td>NaN</td>\n",
              "      <td>3.2</td>\n",
              "      <td>Пасс (1)</td>\n",
              "      <td>NaN</td>\n",
              "      <td>https://www.cian.ru/rent/flat/271173086</td>\n",
              "    </tr>\n",
              "    <tr>\n",
              "      <th>3</th>\n",
              "      <td>3</td>\n",
              "      <td>272197456</td>\n",
              "      <td>4, Оба варианта</td>\n",
              "      <td>Квартира</td>\n",
              "      <td>м. Смоленская (3 мин пешком)</td>\n",
              "      <td>Москва, переулок Плотников, 21С1</td>\n",
              "      <td>170.0/95.0/17.0</td>\n",
              "      <td>5/6</td>\n",
              "      <td>подземная</td>\n",
              "      <td>400000.0 руб./ За месяц, Залог - 400000 руб., ...</td>\n",
              "      <td>...</td>\n",
              "      <td>На улицу и двор</td>\n",
              "      <td>Совмещенный (3)</td>\n",
              "      <td>Можно с животными</td>\n",
              "      <td>Мебель в комнатах, Мебель на кухне, Ванна, Душ...</td>\n",
              "      <td>NaN</td>\n",
              "      <td>NaN</td>\n",
              "      <td>3.2</td>\n",
              "      <td>Пасс (1)</td>\n",
              "      <td>NaN</td>\n",
              "      <td>https://www.cian.ru/rent/flat/272197456</td>\n",
              "    </tr>\n",
              "    <tr>\n",
              "      <th>4</th>\n",
              "      <td>4</td>\n",
              "      <td>273614615</td>\n",
              "      <td>2</td>\n",
              "      <td>Квартира</td>\n",
              "      <td>м. Арбатская (7 мин пешком)</td>\n",
              "      <td>Москва, улица Новый Арбат, 15</td>\n",
              "      <td>58.0/38.0/5.0</td>\n",
              "      <td>12/26, Панельный</td>\n",
              "      <td>NaN</td>\n",
              "      <td>225000.0 руб./ За месяц, Залог - 225000 руб., ...</td>\n",
              "      <td>...</td>\n",
              "      <td>На улицу и двор</td>\n",
              "      <td>Совмещенный (2)</td>\n",
              "      <td>NaN</td>\n",
              "      <td>Мебель в комнатах, Мебель на кухне, Ванна, Душ...</td>\n",
              "      <td>The Book</td>\n",
              "      <td>NaN</td>\n",
              "      <td>3.9</td>\n",
              "      <td>Пасс (1), Груз (1)</td>\n",
              "      <td>Да</td>\n",
              "      <td>https://www.cian.ru/rent/flat/273614615</td>\n",
              "    </tr>\n",
              "  </tbody>\n",
              "</table>\n",
              "<p>5 rows × 25 columns</p>\n",
              "</div>"
            ],
            "text/plain": [
              "   Unnamed: 0  ID  объявления Количество комнат       Тип  \\\n",
              "0           0       271271157                 4  Квартира   \n",
              "1           1       271634126                 4  Квартира   \n",
              "2           2       271173086   4, Оба варианта  Квартира   \n",
              "3           3       272197456   4, Оба варианта  Квартира   \n",
              "4           4       273614615                 2  Квартира   \n",
              "\n",
              "                          Метро                             Адрес  \\\n",
              "0  м. Смоленская (9 мин пешком)     Москва, улица Новый Арбат, 27   \n",
              "1  м. Смоленская (8 мин пешком)     Москва, улица Новый Арбат, 27   \n",
              "2  м. Смоленская (7 мин пешком)     Москва, улица Новый Арбат, 27   \n",
              "3  м. Смоленская (3 мин пешком)  Москва, переулок Плотников, 21С1   \n",
              "4   м. Арбатская (7 мин пешком)     Москва, улица Новый Арбат, 15   \n",
              "\n",
              "       Площадь, м2                        Дом   Парковка  \\\n",
              "0       200.0/20.0           5/16, Монолитный  подземная   \n",
              "1  198.0/95.0/18.0  5/16, Монолитно-кирпичный  подземная   \n",
              "2  200.0/116.0/4.0                       5/16  подземная   \n",
              "3  170.0/95.0/17.0                        5/6  подземная   \n",
              "4    58.0/38.0/5.0           12/26, Панельный        NaN   \n",
              "\n",
              "                                                Цена  ...             Окна  \\\n",
              "0  500000.0 руб./ За месяц, Залог - 500000 руб., ...  ...              NaN   \n",
              "1  500000.0 руб./ За месяц, Залог - 500000 руб., ...  ...  На улицу и двор   \n",
              "2  500000.0 руб./ За месяц, Залог - 500000 руб., ...  ...  На улицу и двор   \n",
              "3  400000.0 руб./ За месяц, Залог - 400000 руб., ...  ...  На улицу и двор   \n",
              "4  225000.0 руб./ За месяц, Залог - 225000 руб., ...  ...  На улицу и двор   \n",
              "\n",
              "                           Санузел           Можно с детьми/животными  \\\n",
              "0                              NaN  Можно с детьми, Можно с животными   \n",
              "1  Совмещенный (2), Раздельный (1)                     Можно с детьми   \n",
              "2                  Совмещенный (3)                     Можно с детьми   \n",
              "3                  Совмещенный (3)                  Можно с животными   \n",
              "4                  Совмещенный (2)                                NaN   \n",
              "\n",
              "                                       Дополнительно        Название ЖК  \\\n",
              "0  Мебель в комнатах, Мебель на кухне, Ванна, Душ...  Новый Арбат, 2010   \n",
              "1  Мебель в комнатах, Мебель на кухне, Ванна, Душ...        Новый Арбат   \n",
              "2  Мебель в комнатах, Мебель на кухне, Ванна, Душ...        Новый Арбат   \n",
              "3  Мебель в комнатах, Мебель на кухне, Ванна, Душ...                NaN   \n",
              "4  Мебель в комнатах, Мебель на кухне, Ванна, Душ...           The Book   \n",
              "\n",
              "  Серия дома Высота потолков, м                Лифт Мусоропровод  \\\n",
              "0        NaN                3.0  Пасс (4), Груз (1)           Да   \n",
              "1        NaN                3.5  Пасс (1), Груз (1)          Нет   \n",
              "2        NaN                3.2            Пасс (1)          NaN   \n",
              "3        NaN                3.2            Пасс (1)          NaN   \n",
              "4        NaN                3.9  Пасс (1), Груз (1)           Да   \n",
              "\n",
              "                      Ссылка на объявление  \n",
              "0  https://www.cian.ru/rent/flat/271271157  \n",
              "1  https://www.cian.ru/rent/flat/271634126  \n",
              "2  https://www.cian.ru/rent/flat/271173086  \n",
              "3  https://www.cian.ru/rent/flat/272197456  \n",
              "4  https://www.cian.ru/rent/flat/273614615  \n",
              "\n",
              "[5 rows x 25 columns]"
            ]
          },
          "execution_count": 3,
          "metadata": {},
          "output_type": "execute_result"
        }
      ],
      "source": [
        "data_path = '../data/_data.csv'\n",
        "df = pd.read_csv(data_path)\n",
        "df.head()"
      ]
    },
    {
      "cell_type": "markdown",
      "metadata": {
        "id": "SMjuVU8tt5f5"
      },
      "source": []
    },
    {
      "cell_type": "markdown",
      "metadata": {},
      "source": [
        "3. Посмотрим на загруженные данные"
      ]
    },
    {
      "cell_type": "code",
      "execution_count": 4,
      "metadata": {
        "colab": {
          "base_uri": "https://localhost:8080/"
        },
        "id": "KxuNMeTEuyz2",
        "outputId": "70234780-1b6e-4293-a3de-e81e295ab8a5"
      },
      "outputs": [
        {
          "name": "stdout",
          "output_type": "stream",
          "text": [
            "<class 'pandas.core.frame.DataFrame'>\n",
            "RangeIndex: 23368 entries, 0 to 23367\n",
            "Data columns (total 25 columns):\n",
            " #   Column                    Non-Null Count  Dtype  \n",
            "---  ------                    --------------  -----  \n",
            " 0   Unnamed: 0                23368 non-null  int64  \n",
            " 1   ID  объявления            23368 non-null  int64  \n",
            " 2   Количество комнат         22327 non-null  object \n",
            " 3   Тип                       23368 non-null  object \n",
            " 4   Метро                     22053 non-null  object \n",
            " 5   Адрес                     23368 non-null  object \n",
            " 6   Площадь, м2               23368 non-null  object \n",
            " 7   Дом                       23368 non-null  object \n",
            " 8   Парковка                  9951 non-null   object \n",
            " 9   Цена                      23368 non-null  object \n",
            " 10  Телефоны                  23368 non-null  object \n",
            " 11  Описание                  23368 non-null  object \n",
            " 12  Ремонт                    20613 non-null  object \n",
            " 13  Площадь комнат, м2        14458 non-null  object \n",
            " 14  Балкон                    15390 non-null  object \n",
            " 15  Окна                      16755 non-null  object \n",
            " 16  Санузел                   20696 non-null  object \n",
            " 17  Можно с детьми/животными  17272 non-null  object \n",
            " 18  Дополнительно             23011 non-null  object \n",
            " 19  Название ЖК               5848 non-null   object \n",
            " 20  Серия дома                2163 non-null   object \n",
            " 21  Высота потолков, м        11206 non-null  float64\n",
            " 22  Лифт                      17868 non-null  object \n",
            " 23  Мусоропровод              12846 non-null  object \n",
            " 24  Ссылка на объявление      23368 non-null  object \n",
            "dtypes: float64(1), int64(2), object(22)\n",
            "memory usage: 4.5+ MB\n"
          ]
        }
      ],
      "source": [
        "df.info()"
      ]
    },
    {
      "cell_type": "markdown",
      "metadata": {},
      "source": [
        "Посмотрим количество уникальных значений для каждой строки"
      ]
    },
    {
      "cell_type": "code",
      "execution_count": 5,
      "metadata": {
        "colab": {
          "base_uri": "https://localhost:8080/",
          "height": 868
        },
        "id": "NOJRnKRZwaN9",
        "outputId": "9f044670-91a2-461f-9bee-541ef2449e89"
      },
      "outputs": [
        {
          "data": {
            "text/plain": [
              "Unnamed: 0                  23368\n",
              "ID  объявления              23368\n",
              "Количество комнат              24\n",
              "Тип                             1\n",
              "Метро                        5866\n",
              "Адрес                       12850\n",
              "Площадь, м2                 11255\n",
              "Дом                          2565\n",
              "Парковка                        5\n",
              "Цена                         3922\n",
              "Телефоны                    13172\n",
              "Описание                    23078\n",
              "Ремонт                          4\n",
              "Площадь комнат, м2           3990\n",
              "Балкон                         18\n",
              "Окна                            3\n",
              "Санузел                        20\n",
              "Можно с детьми/животными        3\n",
              "Дополнительно                 528\n",
              "Название ЖК                  1798\n",
              "Серия дома                    393\n",
              "Высота потолков, м             95\n",
              "Лифт                           34\n",
              "Мусоропровод                    2\n",
              "Ссылка на объявление        23368\n",
              "dtype: int64"
            ]
          },
          "execution_count": 5,
          "metadata": {},
          "output_type": "execute_result"
        }
      ],
      "source": [
        "df.nunique()"
      ]
    },
    {
      "cell_type": "markdown",
      "metadata": {
        "id": "quy7LmwEvqSG"
      },
      "source": []
    },
    {
      "cell_type": "markdown",
      "metadata": {},
      "source": [
        "4. Нарисуем первичные графики"
      ]
    },
    {
      "cell_type": "code",
      "execution_count": 6,
      "metadata": {},
      "outputs": [
        {
          "data": {
            "image/png": "[encoded data removed]",
            "text/plain": [
              "<Figure size 1000x600 with 1 Axes>"
            ]
          },
          "metadata": {},
          "output_type": "display_data"
        }
      ],
      "source": [
        "plt.figure(figsize=(10,6))\n",
        "sns.histplot(df['Цена'], bins=50, kde=True)\n",
        "plt.title('Распределение цены аренды')\n",
        "plt.show()"
      ]
    },
    {
      "cell_type": "code",
      "execution_count": 7,
      "metadata": {},
      "outputs": [
        {
          "data": {
            "image/png": "[encoded data removed]",
            "text/plain": [
              "<Figure size 1000x600 with 1 Axes>"
            ]
          },
          "metadata": {},
          "output_type": "display_data"
        }
      ],
      "source": [
        "plt.figure(figsize=(10, 6))\n",
        "sns.histplot(df['Площадь, м2'], bins=50, kde=True)\n",
        "plt.title('Распределение площадей квартир')\n",
        "plt.show()\n"
      ]
    }
  ],
  "metadata": {
    "colab": {
      "provenance": []
    },
    "kernelspec": {
      "display_name": "Python 3",
      "name": "python3"
    },
    "language_info": {
      "codemirror_mode": {
        "name": "ipython",
        "version": 3
      },
      "file_extension": ".py",
      "mimetype": "text/x-python",
      "name": "python",
      "nbconvert_exporter": "python",
      "pygments_lexer": "ipython3",
      "version": "3.10.15"
    }
  },
  "nbformat": 4,
  "nbformat_minor": 0
}
